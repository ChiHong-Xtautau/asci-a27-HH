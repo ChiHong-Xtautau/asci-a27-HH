{
 "cells": [
  {
   "cell_type": "markdown",
   "metadata": {
    "collapsed": true
   },
   "source": [
    "# A27 - Fundamentals and Design of Blockchain-based Systems"
   ]
  },
  {
   "cell_type": "markdown",
   "metadata": {},
   "source": [
    "In this course you will be designing your own blockchain using the IPv8 peer to peer networking library. The project template provided to you, supplies you with all the tools necessary to perform the lab. The project is structured as follows:\n",
    "\n",
    "```\n",
    "asci-a27-blockhain/\n",
    "|-- bami/                 // contains the IPv8 simulator\n",
    "|-- |-- ... \n",
    "|   \n",
    "|\n",
    "|-- simulation/\n",
    "|   |-- common/           // contains building block for your solution\n",
    "|   |   |-- ...\n",
    "|   |   |-- ...\n",
    "|   |   \n",
    "|   |-- example/\n",
    "|   |-- |-- example.py    // contains a simulation example.\n",
    "|\n",
    "\n",
    "```"
   ]
  },
  {
   "cell_type": "markdown",
   "metadata": {},
   "source": [
    "    ## PingPong Community"
   ]
  },
  {
   "cell_type": "markdown",
   "metadata": {},
   "source": [
    "IPv8 relies on network overlays: virtual networks that are built on top of existing physical networks. The PingPong simulation makes use of such an overlay. Next, we'll explain how this code works."
   ]
  },
  {
   "cell_type": "code",
   "execution_count": 3,
   "metadata": {},
   "outputs": [],
   "source": [
    "import os\n",
    "from asyncio import ensure_future, get_event_loop\n",
    "\n",
    "from ipv8.community import Community\n",
    "from ipv8.configuration import ConfigBuilder\n",
    "from ipv8.lazy_community import lazy_wrapper\n",
    "from ipv8.messaging.lazy_payload import VariablePayload, vp_compile\n",
    "\n",
    "from simulation.common.settings import SimulationSettings\n",
    "from simulation.common.simulation import SimulatedCommunityMixin, BamiSimulation\n",
    "from simulation.common.utils import time_mark, connected_topology"
   ]
  },
  {
   "cell_type": "markdown",
   "metadata": {},
   "source": [
    "After the required imports, we define our network overlay `PingPongCommunity` — which IPv8 refers to as a Community. We extend from the IPv8 `Community` class and define our message types and handlers."
   ]
  },
  {
   "cell_type": "code",
   "execution_count": 4,
   "metadata": {},
   "outputs": [],
   "source": [
    "@vp_compile\n",
    "class PingMessage(VariablePayload):\n",
    "    msg_id = 1\n",
    "\n",
    "@vp_compile\n",
    "class PongMessage(VariablePayload):\n",
    "    msg_id = 2\n",
    "\n",
    "    \n",
    "class PingPongCommunity(Community):\n",
    "    \"\"\"\n",
    "    This basic community sends ping messages to other known peers every two seconds.\n",
    "    \"\"\"\n",
    "    community_id = os.urandom(20)\n",
    "\n",
    "    def __init__(self, my_peer, endpoint, network):\n",
    "        super().__init__(my_peer, endpoint, network)\n",
    "        self.add_message_handler(1, self.on_ping_message)\n",
    "        self.add_message_handler(2, self.on_pong_message)\n",
    "\n",
    "    def started(self):\n",
    "        self.register_task(\"send_ping\", self.send_ping, interval=2.0, delay=0)\n",
    "\n",
    "    def send_ping(self):\n",
    "        self.logger.info(\"🔥 <t=%.1f> peer %s sending ping\", get_event_loop().time(), self.my_peer.address)\n",
    "        for peer in self.network.verified_peers:\n",
    "            self.ez_send(peer, PingMessage())\n",
    "\n",
    "    @lazy_wrapper(PingMessage)\n",
    "    def on_ping_message(self, peer, payload):\n",
    "        self.logger.info(\"🔥 <t=%.1f> peer %s received ping\", get_event_loop().time(), self.my_peer.address)\n",
    "        self.logger.info(\"🧊 <t=%.1f> peer %s sending pong\", get_event_loop().time(), self.my_peer.address)\n",
    "        self.ez_send(peer, PongMessage())\n",
    "\n",
    "    @lazy_wrapper(PongMessage)\n",
    "    def on_pong_message(self, peer, payload):\n",
    "        self.logger.info(\"🧊 <t=%.1f> peer %s received pong\", get_event_loop().time(), self.my_peer.address)\n",
    "        "
   ]
  },
  {
   "cell_type": "markdown",
   "metadata": {},
   "source": [
    "Next, we setup the BAMI Simulator and add our `PingPong` overlay to the simulator IPv8 nodes."
   ]
  },
  {
   "cell_type": "code",
   "execution_count": 5,
   "metadata": {},
   "outputs": [],
   "source": [
    "class BasicPingPongSimulation(BamiSimulation):\n",
    "    \n",
    "    def get_ipv8_builder(self, peer_id: int) -> ConfigBuilder:\n",
    "        builder = super().get_ipv8_builder(peer_id)\n",
    "        builder.add_overlay(\"PingPongCommunity\", \"my peer\", [], [], {}, [('started',)])\n",
    "        return builder"
   ]
  },
  {
   "cell_type": "markdown",
   "metadata": {},
   "source": [
    "We also use the a mixin to handle delays."
   ]
  },
  {
   "cell_type": "code",
   "execution_count": 6,
   "metadata": {},
   "outputs": [],
   "source": [
    "class SimulatedPingPong(SimulatedCommunityMixin, PingPongCommunity):\n",
    "    send_ping = time_mark(PingPongCommunity.send_ping)\n",
    "    on_ping_message = time_mark(PingPongCommunity.on_ping_message)\n"
   ]
  },
  {
   "cell_type": "markdown",
   "metadata": {},
   "source": [
    "Finally, we define the parameters for our simulation and run it for 10 seconds."
   ]
  },
  {
   "cell_type": "code",
   "execution_count": 7,
   "metadata": {},
   "outputs": [
    {
     "name": "stderr",
     "output_type": "stream",
     "text": [
      "ERROR:asyncio:Task exception was never retrieved\n",
      "future: <Task finished name='Task-4' coro=<BamiSimulation.run() done, defined at /Users/rowdy/Documents/repos/phd-research/asci-a27-blockchain/simulation/common/simulation.py:178> exception=RuntimeError(\"Task <Task pending name='Task-4' coro=<BamiSimulation.run() running at /Users/rowdy/Documents/repos/phd-research/asci-a27-blockchain/simulation/common/simulation.py:181>> got Future <_GatheringFuture pending> attached to a different loop\")>\n",
      "Traceback (most recent call last):\n",
      "  File \"/Users/rowdy/Documents/repos/phd-research/asci-a27-blockchain/simulation/common/simulation.py\", line 181, in run\n",
      "    await self.start_ipv8_nodes()\n",
      "  File \"/Users/rowdy/Documents/repos/phd-research/asci-a27-blockchain/simulation/common/simulation.py\", line 93, in start_ipv8_nodes\n",
      "    await instance.start()\n",
      "  File \"/Users/rowdy/Library/Caches/pypoetry/virtualenvs/bami--y7Kd02X-py3.8/lib/python3.8/site-packages/ipv8_service.py\", line 144, in start\n",
      "    await gather(*(ensure_future(maybe_coroutine(func, *args)) for func, args in self.on_start))\n",
      "RuntimeError: Task <Task pending name='Task-4' coro=<BamiSimulation.run() running at /Users/rowdy/Documents/repos/phd-research/asci-a27-blockchain/simulation/common/simulation.py:181>> got Future <_GatheringFuture pending> attached to a different loop\n"
     ]
    }
   ],
   "source": [
    "# We use a discrete event loop to enable quick simulations.\n",
    "if __name__ == \"__main__\":\n",
    "    settings = SimulationSettings()\n",
    "    settings.peers = 6\n",
    "    settings.duration = 10\n",
    "    settings.indefinite = True\n",
    "    settings.topology = connected_topology(settings.peers)\n",
    "    settings.community_map = {'PingPongCommunity': SimulatedPingPong}\n",
    "\n",
    "    simulation = BasicPingPongSimulation(settings)\n",
    "    ensure_future(simulation.run())\n",
    "    simulation.loop.run_forever()"
   ]
  },
  {
   "cell_type": "markdown",
   "metadata": {},
   "source": [
    "## Lab day 1: the Basics"
   ]
  },
  {
   "cell_type": "markdown",
   "metadata": {},
   "source": [
    "For the first lab day, we expect you to implement the preliminaries towards a function blockchain. For this, you will be using the IPv8 simulator. We expect you to implement the following:\n",
    "\n",
    "- A network with full visibility.\n",
    "- Two different types of nodes: validators and light nodes.\n",
    "- Balanced based cryptocurrency transactions. Clients should be able to send and receive tokens. This will be done by sending a transaction to a validator node. The validator node will then broadcast the transaction to all other nodes. The outcome of this transaction should be added to a local storage, storing the updated balances from the corresponding parties.\n",
    "- As an outcome, we expect you to print the contents of the database in order to verify the correctness of the transactions."
   ]
  },
  {
   "cell_type": "markdown",
   "metadata": {},
   "source": [
    "## Lab day 2: Consensus"
   ]
  },
  {
   "cell_type": "markdown",
   "metadata": {},
   "source": [
    "For this second day, we expect you to implement a consensus mechanism for your preliminary blockchain. For this, you will be implementing a Proof of Stake (PoS) consensus mechanism. We expect you to implement the following:\n",
    "- Blocks\n",
    "- A mempool\n",
    "- Mining\n",
    "- A PoS consensus mechanism using weights based on the amount of tokens a validator has.\n",
    "\n",
    "As an outcome, play with different stake weights and see how this affects the consensus mechanism. For example, what happens if a validator has 10x more tokens than the other validators? What happens if a validator has 10x less tokens than the other validators?"
   ]
  },
  {
   "cell_type": "markdown",
   "metadata": {},
   "source": [
    "## Lab day 3: Payment channels"
   ]
  },
  {
   "cell_type": "markdown",
   "metadata": {},
   "source": [
    "For this third day, we expect you to implement a payment channel mechanism for your preliminary blockchain. We expect you to implement the following:\n",
    "- Opening a payment channel.\n",
    "- Making payments.\n",
    "- Closing a payment channel.\n",
    "\n",
    "As an outcome, we ask you to play around with different network topologies and report on the differences you observe. For example, what happens if you have a fully connected network? Or a BA graph? What happens if you have a network with a single bottleneck? What happens if you have a network with multiple bottlenecks?"
   ]
  },
  {
   "cell_type": "markdown",
   "metadata": {},
   "source": [
    "## Lab day 4: Blue vs. Red"
   ]
  },
  {
   "cell_type": "markdown",
   "metadata": {},
   "source": [
    "In this fourth day, we expect you to implement a malicious node that can attack the blockchain. We ask you to divide into two groups: a blue team and a red team. The blue teams gets to decide amongst themselves what implementation they will pick as their favourite. You will provide the red team with this implementation.\n",
    "\n",
    "The red team will then implement a malicious node that can attack the blockchain. The red team is free in their approach of attacks, for instance:\n",
    "\n",
    "- Double spending\n",
    "- Sybil attacks\n",
    "- Eclipse attacks\n",
    "- Byzantine nodes\n",
    "\n",
    "The end goal is to steal tokens from the blue team. The blue team will then try to defend their blockchain against the red team. The blue team is free in their approach of defending their blockchain. They should critically assess and try to find weaknesses in the implementation. However, it is most important to not change the message format of the blockchain as this would sabotage the red team."
   ]
  },
  {
   "cell_type": "markdown",
   "metadata": {},
   "source": [
    "## Lab day 5: Raising the stakes"
   ]
  },
  {
   "cell_type": "markdown",
   "metadata": {},
   "source": [
    "In this final lab day, we continue with the feud. We ask you to finalize your attacks or defenses. After doing so, you will make the switch to actual IPv8 nodes. You will then run your attacks or defenses on the IPv8 network. We will have a live battle to see who will win the war."
   ]
  }
 ],
 "metadata": {
  "kernelspec": {
   "display_name": "Python 3 (ipykernel)",
   "language": "python",
   "name": "python3"
  },
  "language_info": {
   "codemirror_mode": {
    "name": "ipython",
    "version": 3
   },
   "file_extension": ".py",
   "mimetype": "text/x-python",
   "name": "python",
   "nbconvert_exporter": "python",
   "pygments_lexer": "ipython3",
   "version": "3.8.16"
  }
 },
 "nbformat": 4,
 "nbformat_minor": 1
}
