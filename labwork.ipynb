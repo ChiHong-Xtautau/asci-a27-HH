{
 "cells": [
  {
   "cell_type": "markdown",
   "metadata": {
    "collapsed": true
   },
   "source": [
    "# A27 - Fundamentals and Design of Blockchain-based Systems"
   ]
  },
  {
   "cell_type": "markdown",
   "metadata": {},
   "source": [
    "In this course you will be designing your own blockchain using the IPv8 peer to peer networking library. The project template provided to you, supplies you with all the tools necessary to perform the lab. The project is structured as follows:\n",
    "\n",
    "```\n",
    "asci-a27-blockhain/\n",
    "|-- bami/                 // contains the IPv8 simulator\n",
    "|-- |-- ... \n",
    "|   \n",
    "|\n",
    "|-- simulation/\n",
    "|   |-- common/           // contains building block for your solution\n",
    "|   |   |-- ...\n",
    "|   |   |-- ...\n",
    "|   |   \n",
    "|   |-- example/\n",
    "|   |-- |-- example.py    // contains a simulation example.\n",
    "|\n",
    "\n",
    "```"
   ]
  },
  {
   "cell_type": "markdown",
   "metadata": {},
   "source": []
  },
  {
   "cell_type": "code",
   "execution_count": null,
   "metadata": {},
   "outputs": [],
   "source": []
  }
 ],
 "metadata": {
  "kernelspec": {
   "display_name": "Python 3 (ipykernel)",
   "language": "python",
   "name": "python3"
  },
  "language_info": {
   "codemirror_mode": {
    "name": "ipython",
    "version": 3
   },
   "file_extension": ".py",
   "mimetype": "text/x-python",
   "name": "python",
   "nbconvert_exporter": "python",
   "pygments_lexer": "ipython3",
   "version": "3.8.16"
  }
 },
 "nbformat": 4,
 "nbformat_minor": 1
}
