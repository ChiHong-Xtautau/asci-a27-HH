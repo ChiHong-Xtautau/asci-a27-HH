{
 "cells": [
  {
   "cell_type": "markdown",
   "metadata": {
    "collapsed": true
   },
   "source": [
    "# A27 - Fundamentals and Design of Blockchain-based Systems"
   ]
  },
  {
   "cell_type": "markdown",
   "metadata": {},
   "source": [
    "In this course you will be designing your own blockchain using the IPv8 peer to peer networking library. The project template provided to you, supplies you with all the tools necessary to perform the lab. The project is structured as follows:\n",
    "\n",
    "```\n",
    "asci-a27-blockhain/\n",
    "|-- bami/                 // contains the IPv8 simulator\n",
    "|-- |-- ... \n",
    "|   \n",
    "|\n",
    "|-- simulation/\n",
    "|   |-- common/           // contains building block for your solution\n",
    "|   |   |-- ...\n",
    "|   |   |-- ...\n",
    "|   |   \n",
    "|   |-- example/\n",
    "|   |-- |-- example.py    // contains a simulation example.\n",
    "|\n",
    "\n",
    "```"
   ]
  },
  {
   "cell_type": "markdown",
   "metadata": {},
   "source": [
    "    ## PingPong Community"
   ]
  },
  {
   "cell_type": "markdown",
   "metadata": {},
   "source": [
    "IPv8 relies on network overlays: virtual networks that are built on top of existing physical networks. The PingPong simulation makes use of such an overlay. Next, we'll explain how this code works."
   ]
  },
  {
   "cell_type": "code",
   "execution_count": null,
   "metadata": {},
   "outputs": [],
   "source": [
    "import os\n",
    "from asyncio import ensure_future, get_event_loop\n",
    "\n",
    "from ipv8.community import Community\n",
    "from ipv8.configuration import ConfigBuilder\n",
    "from ipv8.lazy_community import lazy_wrapper\n",
    "from ipv8.messaging.lazy_payload import VariablePayload, vp_compile\n",
    "\n",
    "from simulation.common.settings import SimulationSettings\n",
    "from simulation.common.simulation import SimulatedCommunityMixin, BamiSimulation\n",
    "from simulation.common.utils import time_mark, connected_topology"
   ]
  },
  {
   "cell_type": "markdown",
   "metadata": {},
   "source": [
    "After the required imports, we define our network overlay `PingPongCommunity` — which IPv8 refers to as a Community. We extend from the IPv8 `Community` class and define our message types and handlers."
   ]
  },
  {
   "cell_type": "code",
   "execution_count": null,
   "metadata": {},
   "outputs": [],
   "source": [
    "@vp_compile\n",
    "class PingMessage(VariablePayload):\n",
    "    msg_id = 1\n",
    "\n",
    "@vp_compile\n",
    "class PongMessage(VariablePayload):\n",
    "    msg_id = 2\n",
    "\n",
    "    \n",
    "class PingPongCommunity(Community):\n",
    "    \"\"\"\n",
    "    This basic community sends ping messages to other known peers every two seconds.\n",
    "    \"\"\"\n",
    "    community_id = os.urandom(20)\n",
    "\n",
    "    def __init__(self, my_peer, endpoint, network):\n",
    "        super().__init__(my_peer, endpoint, network)\n",
    "        self.add_message_handler(1, self.on_ping_message)\n",
    "        self.add_message_handler(2, self.on_pong_message)\n",
    "\n",
    "    def started(self):\n",
    "        self.register_task(\"send_ping\", self.send_ping, interval=2.0, delay=0)\n",
    "\n",
    "    def send_ping(self):\n",
    "        self.logger.info(\"🔥 <t=%.1f> peer %s sending ping\", get_event_loop().time(), self.my_peer.address)\n",
    "        for peer in self.network.verified_peers:\n",
    "            self.ez_send(peer, PingMessage())\n",
    "\n",
    "    @lazy_wrapper(PingMessage)\n",
    "    def on_ping_message(self, peer, payload):\n",
    "        self.logger.info(\"🔥 <t=%.1f> peer %s received ping\", get_event_loop().time(), self.my_peer.address)\n",
    "        self.logger.info(\"🧊 <t=%.1f> peer %s sending pong\", get_event_loop().time(), self.my_peer.address)\n",
    "        self.ez_send(peer, PongMessage())\n",
    "\n",
    "    @lazy_wrapper(PongMessage)\n",
    "    def on_pong_message(self, peer, payload):\n",
    "        self.logger.info(\"🧊 <t=%.1f> peer %s received pong\", get_event_loop().time(), self.my_peer.address)\n",
    "        "
   ]
  },
  {
   "cell_type": "markdown",
   "metadata": {},
   "source": [
    "Next, we setup the BAMI Simulator and add our `PingPong` overlay to the simulator IPv8 nodes."
   ]
  },
  {
   "cell_type": "code",
   "execution_count": null,
   "metadata": {},
   "outputs": [],
   "source": [
    "class BasicPingPongSimulation(BamiSimulation):\n",
    "    \n",
    "    def get_ipv8_builder(self, peer_id: int) -> ConfigBuilder:\n",
    "        builder = super().get_ipv8_builder(peer_id)\n",
    "        builder.add_overlay(\"PingPongCommunity\", \"my peer\", [], [], {}, [('started',)])\n",
    "        return builder"
   ]
  },
  {
   "cell_type": "markdown",
   "metadata": {},
   "source": [
    "We also use the a mixin to handle delays."
   ]
  },
  {
   "cell_type": "code",
   "execution_count": null,
   "metadata": {},
   "outputs": [],
   "source": [
    "class SimulatedPingPong(SimulatedCommunityMixin, PingPongCommunity):\n",
    "    send_ping = time_mark(PingPongCommunity.send_ping)\n",
    "    on_ping_message = time_mark(PingPongCommunity.on_ping_message)\n"
   ]
  },
  {
   "cell_type": "markdown",
   "metadata": {},
   "source": [
    "Finally, we define the parameters for our simulation and run it for 10 seconds."
   ]
  },
  {
   "cell_type": "code",
   "execution_count": null,
   "metadata": {},
   "outputs": [],
   "source": [
    "# We use a discrete event loop to enable quick simulations.\n",
    "if __name__ == \"__main__\":\n",
    "    settings = SimulationSettings()\n",
    "    settings.peers = 6\n",
    "    settings.duration = 10\n",
    "    settings.indefinite = True\n",
    "    settings.topology = connected_topology(settings.peers)\n",
    "    settings.community_map = {'PingPongCommunity': SimulatedPingPong}\n",
    "\n",
    "    simulation = BasicPingPongSimulation(settings)\n",
    "    ensure_future(simulation.run())\n",
    "    simulation.loop.run_forever()"
   ]
  }
 ],
 "metadata": {
  "kernelspec": {
   "display_name": "Python 3 (ipykernel)",
   "language": "python",
   "name": "python3"
  },
  "language_info": {
   "codemirror_mode": {
    "name": "ipython",
    "version": 3
   },
   "file_extension": ".py",
   "mimetype": "text/x-python",
   "name": "python",
   "nbconvert_exporter": "python",
   "pygments_lexer": "ipython3",
   "version": "3.8.16"
  }
 },
 "nbformat": 4,
 "nbformat_minor": 1
}
